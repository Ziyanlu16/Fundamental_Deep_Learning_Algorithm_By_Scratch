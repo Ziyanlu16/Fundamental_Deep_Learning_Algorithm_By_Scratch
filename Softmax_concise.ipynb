{
 "cells": [
  {
   "cell_type": "code",
   "execution_count": 1,
   "metadata": {},
   "outputs": [
    {
     "name": "stderr",
     "output_type": "stream",
     "text": [
      "c:\\Python311\\Lib\\site-packages\\numpy\\_distributor_init.py:30: UserWarning: loaded more than 1 DLL from .libs:\n",
      "c:\\Python311\\Lib\\site-packages\\numpy\\.libs\\libopenblas.FB5AE2TYXYH2IJRDKGDGQ3XBKLKTF43H.gfortran-win_amd64.dll\n",
      "c:\\Python311\\Lib\\site-packages\\numpy\\.libs\\libopenblas64__v0.3.21-gcc_10_3_0.dll\n",
      "  warnings.warn(\"loaded more than 1 DLL from .libs:\"\n"
     ]
    }
   ],
   "source": [
    "import torch\n",
    "from torch import nn\n",
    "from d2l import torch as d2l"
   ]
  },
  {
   "cell_type": "code",
   "execution_count": 2,
   "metadata": {},
   "outputs": [],
   "source": [
    "batch_size = 256\n",
    "train_iter, test_iter = d2l.load_data_fashion_mnist(batch_size)"
   ]
  },
  {
   "cell_type": "code",
   "execution_count": 3,
   "metadata": {},
   "outputs": [],
   "source": [
    "net = nn.Sequential(nn.Flatten(), nn.Linear(784, 10))\n",
    "\n",
    "def init_weights(m):\n",
    "    if type(m) == nn.Linear:\n",
    "        nn.init.normal_(m.weight, std=0.01)\n",
    "\n",
    "net.apply(init_weights);"
   ]
  },
  {
   "cell_type": "code",
   "execution_count": 4,
   "metadata": {},
   "outputs": [],
   "source": [
    "loss = nn.CrossEntropyLoss(reduction='none')"
   ]
  },
  {
   "cell_type": "code",
   "execution_count": 5,
   "metadata": {},
   "outputs": [],
   "source": [
    "trainer = torch.optim.SGD(net.parameters(), lr=0.1)"
   ]
  },
  {
   "cell_type": "code",
   "execution_count": 7,
   "metadata": {},
   "outputs": [
    {
     "name": "stdout",
     "output_type": "stream",
     "text": [
      "epoch 1, loss 94.2274, train acc 0.6832, test acc 0.8103\n",
      "epoch 2, loss 49.1770, train acc 0.7601, test acc 0.7988\n",
      "epoch 3, loss 42.8273, train acc 0.7750, test acc 0.8262\n",
      "epoch 4, loss 43.2150, train acc 0.7761, test acc 0.8067\n",
      "epoch 5, loss 42.3188, train acc 0.7804, test acc 0.8250\n",
      "epoch 6, loss 37.9354, train acc 0.7916, test acc 0.7916\n",
      "epoch 7, loss 40.5647, train acc 0.7857, test acc 0.8197\n",
      "epoch 8, loss 36.6741, train acc 0.7965, test acc 0.8197\n",
      "epoch 9, loss 39.3708, train acc 0.7907, test acc 0.8376\n",
      "epoch 10, loss 35.6611, train acc 0.7962, test acc 0.8091\n"
     ]
    }
   ],
   "source": [
    "num_epochs = 10  \n",
    "\n",
    "def train(net, train_iter, test_iter, loss, trainer, num_epochs):\n",
    "    for epoch in range(num_epochs):  \n",
    "        train_l_sum, train_acc_sum, n = 0.0, 0.0, 0\n",
    "        for X, y in train_iter:  \n",
    "            trainer.zero_grad()  \n",
    "            y_hat = net(X) \n",
    "            l = loss(y_hat, y)\n",
    "            l.sum().backward()  \n",
    "            trainer.step() \n",
    "            train_l_sum += l.sum()\n",
    "            train_acc_sum += (y_hat.argmax(axis=1) == y).sum().item()\n",
    "            n += y.size(0)\n",
    "        test_acc = evaluate_accuracy(net, test_iter)\n",
    "        print(f'epoch {epoch + 1}, loss {train_l_sum / n:.4f}, train acc {train_acc_sum / n:.4f}, test acc {test_acc:.4f}')\n",
    "\n",
    "def evaluate_accuracy(net, data_iter):\n",
    "    net.eval()\n",
    "    acc_sum, n = 0.0, 0\n",
    "    for X, y in data_iter:\n",
    "        acc_sum += (net(X).argmax(axis=1) == y).sum().item()\n",
    "        n += y.size(0)\n",
    "    net.train()\n",
    "    return acc_sum / n\n",
    "\n",
    "train(net, train_iter, test_iter, loss, trainer, num_epochs)\n"
   ]
  },
  {
   "cell_type": "code",
   "execution_count": null,
   "metadata": {},
   "outputs": [],
   "source": []
  }
 ],
 "metadata": {
  "kernelspec": {
   "display_name": "Python 3",
   "language": "python",
   "name": "python3"
  },
  "language_info": {
   "codemirror_mode": {
    "name": "ipython",
    "version": 3
   },
   "file_extension": ".py",
   "mimetype": "text/x-python",
   "name": "python",
   "nbconvert_exporter": "python",
   "pygments_lexer": "ipython3",
   "version": "3.11.3 (tags/v3.11.3:f3909b8, Apr  4 2023, 23:49:59) [MSC v.1934 64 bit (AMD64)]"
  },
  "orig_nbformat": 4,
  "vscode": {
   "interpreter": {
    "hash": "c261aea317cc0286b3b3261fbba9abdec21eaa57589985bb7a274bf54d6cc0a7"
   }
  }
 },
 "nbformat": 4,
 "nbformat_minor": 2
}
